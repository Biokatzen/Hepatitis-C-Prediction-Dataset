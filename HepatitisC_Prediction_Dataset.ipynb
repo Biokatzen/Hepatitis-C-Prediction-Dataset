{
  "nbformat": 4,
  "nbformat_minor": 0,
  "metadata": {
    "colab": {
      "provenance": [],
      "mount_file_id": "1YjY1ZlMnnJCHhysOiSBlb55L7_cBvnXb",
      "authorship_tag": "ABX9TyMhkTONGw2qacfSsfNj/6RR",
      "include_colab_link": true
    },
    "kernelspec": {
      "name": "python3",
      "display_name": "Python 3"
    },
    "language_info": {
      "name": "python"
    }
  },
  "cells": [
    {
      "cell_type": "markdown",
      "metadata": {
        "id": "view-in-github",
        "colab_type": "text"
      },
      "source": [
        "<a href=\"https://colab.research.google.com/github/Biokatzen/Hepatitis-C-Prediction-Dataset/blob/main/HepatitisC_Prediction_Dataset.ipynb\" target=\"_parent\"><img src=\"https://colab.research.google.com/assets/colab-badge.svg\" alt=\"Open In Colab\"/></a>"
      ]
    },
    {
      "cell_type": "markdown",
      "source": [
        "# Hepatitis C Prediction Dataset\n",
        "\n",
        "The dataset used in this study contains data from female and male blood donors and patients suffering from hepatitis C, fibrosis and cirrhosis with ages ranged from 19 to 77. These are the categorical variables that will be used for classification and clustering later on. The numerical variables are the following: ALB, ALP, ALT, AST, BIL, CHE, CHOL, CREA, GGT, PROT, which are traditional diagnostic tests for liver diseases.\n",
        "\n",
        "The table below resumes all the attributes found in this dataset:\n"
      ],
      "metadata": {
        "id": "2Ye82LitTY4I"
      }
    },
    {
      "cell_type": "markdown",
      "source": [
        "| **Attribute** | **Value** | **Value Label** | **Type** | **Description** |\n",
        "|----------------|----------------|-----------------|-----------|-----------------|\n",
        "| **Patient ID/No.** | Numeric | – | Integer | Patient identification |\n",
        "| **Category** | 0 | Blood Donor | Categorical | Diagnosis of the patient. Blood donor vs Hepatitis C including its progress to Fibrosis and Cirrhosis |\n",
        "|  | 0s | Suspect Blood Donor |  |  |\n",
        "|  | 1 | Hepatitis |  |  |\n",
        "|  | 2 | Fibrosis |  |  |\n",
        "|  | 3 | Cirrhosis |  |  |\n",
        "| **Age** | Numeric | – | Integer |  |\n",
        "| **Sex** | f | Female | Binary |  |\n",
        "|  | m | Male |  |  |\n",
        "| **ALB** | Numeric | – | Continuous | Albumin Blood Test (g/L)|\n",
        "| **ALP** | Numeric | – | Continuous | Alkaline Phosphatase (U/L) |\n",
        "| **ALT** | Numeric | – | Continuous | Alanine Transaminase (U/L) |\n",
        "| **AST** | Numeric | – | Continuous | Aspartate Transaminase (U/L)|\n",
        "| **BIL** | Numeric | – | Continuous | Bilirubin (µmol/L) |\n",
        "| **CHE** | Numeric | – | Continuous | Acetylcholinesterase (U/mL)|\n",
        "| **CHOL** | Numeric | – | Continuous | Cholesterol (mmol/L) |\n",
        "| **CREA** | Numeric | – | Continuous | Creatinine (µmol/L) |\n",
        "| **GGT** | Numeric | – | Continuous | Gamma-Glutamyl Transferase (U/L) |\n",
        "| **PROT** | Numeric | – | Continuous | Total Protein (g/L)|\n"
      ],
      "metadata": {
        "id": "o19K9PIsWU-0"
      }
    },
    {
      "cell_type": "code",
      "source": [
        "import pandas as pd\n",
        "import os"
      ],
      "metadata": {
        "id": "aGhUHg_GiaPy"
      },
      "execution_count": 1,
      "outputs": []
    },
    {
      "cell_type": "markdown",
      "source": [
        "Firstly, the dataset is loaded into google colab  enviroment and printed to have a first look. As we can see below, the dataset has 615 rows and 14 columns"
      ],
      "metadata": {
        "id": "MHMWYLKfmwd-"
      }
    },
    {
      "cell_type": "code",
      "source": [
        "location = '/content/drive/MyDrive/Colab Notebooks'\n",
        "os.chdir(location)\n",
        "df = pd.read_csv('HepatitisCdata.csv', header=0, sep=';')\n",
        "df.shape\n",
        "print(df)"
      ],
      "metadata": {
        "colab": {
          "base_uri": "https://localhost:8080/"
        },
        "id": "GHNj4UM0joNF",
        "outputId": "fabc0a22-99c9-4b20-b1d3-69b38f79c317"
      },
      "execution_count": 2,
      "outputs": [
        {
          "output_type": "stream",
          "name": "stdout",
          "text": [
            "     Unnamed: 0       Category  Age Sex   ALB    ALP    ALT    AST   BIL  \\\n",
            "0             1  0=Blood Donor   32   m  38.5   52.5    7.7   22.1   7.5   \n",
            "1             2  0=Blood Donor   32   m  38.5   70.3   18.0   24.7   3.9   \n",
            "2             3  0=Blood Donor   32   m  46.9   74.7   36.2   52.6   6.1   \n",
            "3             4  0=Blood Donor   32   m  43.2   52.0   30.6   22.6  18.9   \n",
            "4             5  0=Blood Donor   32   m  39.2   74.1   32.6   24.8   9.6   \n",
            "..          ...            ...  ...  ..   ...    ...    ...    ...   ...   \n",
            "610         611    3=Cirrhosis   62   f  32.0  416.6    5.9  110.3  50.0   \n",
            "611         612    3=Cirrhosis   64   f  24.0  102.8    2.9   44.4  20.0   \n",
            "612         613    3=Cirrhosis   64   f  29.0   87.3    3.5   99.0  48.0   \n",
            "613         614    3=Cirrhosis   46   f  33.0    NaN   39.0   62.0  20.0   \n",
            "614         615    3=Cirrhosis   59   f  36.0    NaN  100.0   80.0  12.0   \n",
            "\n",
            "       CHE  CHOL   CREA    GGT  PROT  \n",
            "0     6.93  3.23  106.0   12.1  69.0  \n",
            "1    11.17  4.80   74.0   15.6  76.5  \n",
            "2     8.84  5.20   86.0   33.2  79.3  \n",
            "3     7.33  4.74   80.0   33.8  75.7  \n",
            "4     9.15  4.32   76.0   29.9  68.7  \n",
            "..     ...   ...    ...    ...   ...  \n",
            "610   5.57  6.30   55.7  650.9  68.5  \n",
            "611   1.54  3.02   63.0   35.9  71.3  \n",
            "612   1.66  3.63   66.7   64.2  82.0  \n",
            "613   3.56  4.20   52.0   50.0  71.0  \n",
            "614   9.07  5.30   67.0   34.0  68.0  \n",
            "\n",
            "[615 rows x 14 columns]\n"
          ]
        }
      ]
    },
    {
      "cell_type": "markdown",
      "source": [
        "As we can see, the first column should be the Patient ID/No. but in the dataset appears as an unnamed column, so the dataset has to be modified to add this column name. Additionally, it would be better to have the values male and female in the sex column, instead of f and m, which are less informative\n"
      ],
      "metadata": {
        "id": "1lMl2-TUpkKL"
      }
    },
    {
      "cell_type": "code",
      "source": [
        "df.rename(columns={'Unnamed: 0': 'Patient ID'}, inplace=True)\n",
        "df['Sex'] = df['Sex'].replace({'m': 'male', 'f': 'female'})\n",
        "print(df)"
      ],
      "metadata": {
        "colab": {
          "base_uri": "https://localhost:8080/"
        },
        "id": "_Xi7r9A7qYCB",
        "outputId": "d870d7b3-4cf3-448c-8cdd-d18129703dda"
      },
      "execution_count": 3,
      "outputs": [
        {
          "output_type": "stream",
          "name": "stdout",
          "text": [
            "     Patient ID       Category  Age     Sex   ALB    ALP    ALT    AST   BIL  \\\n",
            "0             1  0=Blood Donor   32    male  38.5   52.5    7.7   22.1   7.5   \n",
            "1             2  0=Blood Donor   32    male  38.5   70.3   18.0   24.7   3.9   \n",
            "2             3  0=Blood Donor   32    male  46.9   74.7   36.2   52.6   6.1   \n",
            "3             4  0=Blood Donor   32    male  43.2   52.0   30.6   22.6  18.9   \n",
            "4             5  0=Blood Donor   32    male  39.2   74.1   32.6   24.8   9.6   \n",
            "..          ...            ...  ...     ...   ...    ...    ...    ...   ...   \n",
            "610         611    3=Cirrhosis   62  female  32.0  416.6    5.9  110.3  50.0   \n",
            "611         612    3=Cirrhosis   64  female  24.0  102.8    2.9   44.4  20.0   \n",
            "612         613    3=Cirrhosis   64  female  29.0   87.3    3.5   99.0  48.0   \n",
            "613         614    3=Cirrhosis   46  female  33.0    NaN   39.0   62.0  20.0   \n",
            "614         615    3=Cirrhosis   59  female  36.0    NaN  100.0   80.0  12.0   \n",
            "\n",
            "       CHE  CHOL   CREA    GGT  PROT  \n",
            "0     6.93  3.23  106.0   12.1  69.0  \n",
            "1    11.17  4.80   74.0   15.6  76.5  \n",
            "2     8.84  5.20   86.0   33.2  79.3  \n",
            "3     7.33  4.74   80.0   33.8  75.7  \n",
            "4     9.15  4.32   76.0   29.9  68.7  \n",
            "..     ...   ...    ...    ...   ...  \n",
            "610   5.57  6.30   55.7  650.9  68.5  \n",
            "611   1.54  3.02   63.0   35.9  71.3  \n",
            "612   1.66  3.63   66.7   64.2  82.0  \n",
            "613   3.56  4.20   52.0   50.0  71.0  \n",
            "614   9.07  5.30   67.0   34.0  68.0  \n",
            "\n",
            "[615 rows x 14 columns]\n"
          ]
        }
      ]
    },
    {
      "cell_type": "markdown",
      "source": [
        "An important pre-processing step is handle the NA values. Firstly the NA values are counted by column to have an idea of how many are they."
      ],
      "metadata": {
        "id": "5bmFsfZdzVcj"
      }
    },
    {
      "cell_type": "code",
      "source": [
        "df.isna().sum()\n"
      ],
      "metadata": {
        "colab": {
          "base_uri": "https://localhost:8080/",
          "height": 523
        },
        "id": "uwF8rJrAzc86",
        "outputId": "bd4341d8-5055-49fa-c1a1-49a9bd552da6"
      },
      "execution_count": 4,
      "outputs": [
        {
          "output_type": "execute_result",
          "data": {
            "text/plain": [
              "Patient ID     0\n",
              "Category       0\n",
              "Age            0\n",
              "Sex            0\n",
              "ALB            1\n",
              "ALP           18\n",
              "ALT            1\n",
              "AST            0\n",
              "BIL            0\n",
              "CHE            0\n",
              "CHOL          10\n",
              "CREA           0\n",
              "GGT            0\n",
              "PROT           1\n",
              "dtype: int64"
            ],
            "text/html": [
              "<div>\n",
              "<style scoped>\n",
              "    .dataframe tbody tr th:only-of-type {\n",
              "        vertical-align: middle;\n",
              "    }\n",
              "\n",
              "    .dataframe tbody tr th {\n",
              "        vertical-align: top;\n",
              "    }\n",
              "\n",
              "    .dataframe thead th {\n",
              "        text-align: right;\n",
              "    }\n",
              "</style>\n",
              "<table border=\"1\" class=\"dataframe\">\n",
              "  <thead>\n",
              "    <tr style=\"text-align: right;\">\n",
              "      <th></th>\n",
              "      <th>0</th>\n",
              "    </tr>\n",
              "  </thead>\n",
              "  <tbody>\n",
              "    <tr>\n",
              "      <th>Patient ID</th>\n",
              "      <td>0</td>\n",
              "    </tr>\n",
              "    <tr>\n",
              "      <th>Category</th>\n",
              "      <td>0</td>\n",
              "    </tr>\n",
              "    <tr>\n",
              "      <th>Age</th>\n",
              "      <td>0</td>\n",
              "    </tr>\n",
              "    <tr>\n",
              "      <th>Sex</th>\n",
              "      <td>0</td>\n",
              "    </tr>\n",
              "    <tr>\n",
              "      <th>ALB</th>\n",
              "      <td>1</td>\n",
              "    </tr>\n",
              "    <tr>\n",
              "      <th>ALP</th>\n",
              "      <td>18</td>\n",
              "    </tr>\n",
              "    <tr>\n",
              "      <th>ALT</th>\n",
              "      <td>1</td>\n",
              "    </tr>\n",
              "    <tr>\n",
              "      <th>AST</th>\n",
              "      <td>0</td>\n",
              "    </tr>\n",
              "    <tr>\n",
              "      <th>BIL</th>\n",
              "      <td>0</td>\n",
              "    </tr>\n",
              "    <tr>\n",
              "      <th>CHE</th>\n",
              "      <td>0</td>\n",
              "    </tr>\n",
              "    <tr>\n",
              "      <th>CHOL</th>\n",
              "      <td>10</td>\n",
              "    </tr>\n",
              "    <tr>\n",
              "      <th>CREA</th>\n",
              "      <td>0</td>\n",
              "    </tr>\n",
              "    <tr>\n",
              "      <th>GGT</th>\n",
              "      <td>0</td>\n",
              "    </tr>\n",
              "    <tr>\n",
              "      <th>PROT</th>\n",
              "      <td>1</td>\n",
              "    </tr>\n",
              "  </tbody>\n",
              "</table>\n",
              "</div><br><label><b>dtype:</b> int64</label>"
            ]
          },
          "metadata": {},
          "execution_count": 4
        }
      ]
    },
    {
      "cell_type": "markdown",
      "source": [
        "As we can see above, the columns with the most NA values are CHOL and ALP with 10 and 18 NA values respectively. But as the dataset has 615 rows, removing these rows won't make a big impact in the model"
      ],
      "metadata": {
        "id": "1RTRdxIgze49"
      }
    },
    {
      "cell_type": "code",
      "source": [
        "df_without_na = df.dropna()\n",
        "print(df_without_na)\n"
      ],
      "metadata": {
        "colab": {
          "base_uri": "https://localhost:8080/"
        },
        "id": "-m601KPrznDR",
        "outputId": "77e8cdf6-3a9a-4730-cd0b-103a3211dd34"
      },
      "execution_count": 7,
      "outputs": [
        {
          "output_type": "stream",
          "name": "stdout",
          "text": [
            "     Patient ID       Category  Age     Sex   ALB    ALP   ALT    AST   BIL  \\\n",
            "0             1  0=Blood Donor   32    male  38.5   52.5   7.7   22.1   7.5   \n",
            "1             2  0=Blood Donor   32    male  38.5   70.3  18.0   24.7   3.9   \n",
            "2             3  0=Blood Donor   32    male  46.9   74.7  36.2   52.6   6.1   \n",
            "3             4  0=Blood Donor   32    male  43.2   52.0  30.6   22.6  18.9   \n",
            "4             5  0=Blood Donor   32    male  39.2   74.1  32.6   24.8   9.6   \n",
            "..          ...            ...  ...     ...   ...    ...   ...    ...   ...   \n",
            "608         609    3=Cirrhosis   58  female  34.0   46.4  15.0  150.0   8.0   \n",
            "609         610    3=Cirrhosis   59  female  39.0   51.3  19.6  285.8  40.0   \n",
            "610         611    3=Cirrhosis   62  female  32.0  416.6   5.9  110.3  50.0   \n",
            "611         612    3=Cirrhosis   64  female  24.0  102.8   2.9   44.4  20.0   \n",
            "612         613    3=Cirrhosis   64  female  29.0   87.3   3.5   99.0  48.0   \n",
            "\n",
            "       CHE  CHOL   CREA    GGT  PROT  \n",
            "0     6.93  3.23  106.0   12.1  69.0  \n",
            "1    11.17  4.80   74.0   15.6  76.5  \n",
            "2     8.84  5.20   86.0   33.2  79.3  \n",
            "3     7.33  4.74   80.0   33.8  75.7  \n",
            "4     9.15  4.32   76.0   29.9  68.7  \n",
            "..     ...   ...    ...    ...   ...  \n",
            "608   6.26  3.98   56.0   49.7  80.6  \n",
            "609   5.77  4.51  136.1  101.1  70.5  \n",
            "610   5.57  6.30   55.7  650.9  68.5  \n",
            "611   1.54  3.02   63.0   35.9  71.3  \n",
            "612   1.66  3.63   66.7   64.2  82.0  \n",
            "\n",
            "[589 rows x 14 columns]\n"
          ]
        }
      ]
    },
    {
      "cell_type": "markdown",
      "source": [
        "The next step is to have a look to the outliers of every variable. For this, the z-score is calculated for all numerical variables. For this, we need to remove the categorical variables that appears as numbers before calculating the z-score and add them afterwards"
      ],
      "metadata": {
        "id": "19rK08pBz0Ag"
      }
    },
    {
      "cell_type": "code",
      "source": [
        "\n",
        "import numpy as np\n",
        "from scipy.stats import zscore\n",
        "\n",
        "exclude_cols = ['Patient ID', 'Age'] #Categorical columns that have numerical values\n",
        "numerical_cols = df_without_na.select_dtypes(include=np.number).columns\n",
        "continuous_cols = [c for c in numerical_cols if c not in exclude_cols] #All numerical columns excluding the ones in exclude_cols\n",
        "\n",
        "df_scaled = df_without_na.copy()\n",
        "df_scaled[continuous_cols] = df_without_na[continuous_cols].apply(zscore) #Z-score applied\n",
        "\n",
        "print(df_scaled.head())\n",
        "\n",
        "\n",
        "mask = (np.abs(df_scaled[continuous_cols]) < 3).all(axis=1) #Filter out the rows with a score higher than 3\n",
        "df_no_outliers = df_scaled[mask].copy()\n",
        "print(df_no_outliers.head())"
      ],
      "metadata": {
        "colab": {
          "base_uri": "https://localhost:8080/"
        },
        "id": "n_dX5rGMz5kR",
        "outputId": "47ce647e-a80b-45e1-cbe1-d3a7f97f3589"
      },
      "execution_count": 26,
      "outputs": [
        {
          "output_type": "stream",
          "name": "stdout",
          "text": [
            "   Patient ID       Category  Age   Sex       ALB       ALP       ALT  \\\n",
            "0           1  0=Blood Donor   32  male -0.542701 -0.603230 -0.905494   \n",
            "1           2  0=Blood Donor   32  male -0.542701  0.084054 -0.411380   \n",
            "2           3  0=Blood Donor   32  male  0.916417  0.253944  0.461714   \n",
            "3           4  0=Blood Donor   32  male  0.273710 -0.622536  0.193070   \n",
            "4           5  0=Blood Donor   32  male -0.421108  0.230777  0.289014   \n",
            "\n",
            "        AST       BIL       CHE      CHOL      CREA       GGT      PROT  \n",
            "0 -0.355457 -0.202289 -0.581777 -1.916091  0.480336 -0.481022 -0.540788  \n",
            "1 -0.276283 -0.409283  1.354993 -0.524241 -0.151402 -0.416513  0.862566  \n",
            "2  0.573318 -0.282787  0.290683 -0.169629  0.085500 -0.092127  1.386485  \n",
            "3 -0.340231  0.453193 -0.399063 -0.577433 -0.032951 -0.081068  0.712875  \n",
            "4 -0.273238 -0.081542  0.432286 -0.949775 -0.111918 -0.152949 -0.596922  \n",
            "       Patient ID         Age         ALB           ALP         ALT  \\\n",
            "count  589.000000  589.000000  589.000000  5.890000e+02  589.000000   \n",
            "mean   298.648557   47.417657    0.000000  3.015886e-18    0.000000   \n",
            "std    174.142507    9.931334    1.000850  1.000850e+00    1.000850   \n",
            "min      1.000000   23.000000   -4.642129 -2.194022e+00   -1.231705   \n",
            "25%    149.000000   39.000000   -0.490590 -6.032301e-01   -0.488136   \n",
            "50%    296.000000   47.000000    0.047894 -7.425328e-02   -0.185911   \n",
            "75%    448.000000   54.000000    0.603749  4.547235e-01    0.255434   \n",
            "max    613.000000   77.000000    7.048188  1.345520e+01   14.330480   \n",
            "\n",
            "                AST           BIL           CHE          CHOL          CREA  \\\n",
            "count  5.890000e+02  5.890000e+02  5.890000e+02  5.890000e+02  5.890000e+02   \n",
            "mean   1.206354e-17 -6.031772e-18  2.412709e-17 -6.031772e-18  6.031772e-18   \n",
            "std    1.000850e+00  1.000850e+00  1.000850e+00  1.000850e+00  1.000850e+00   \n",
            "min   -7.056507e-01 -5.875282e-01 -3.098665e+00 -3.511842e+00 -1.454361e+00   \n",
            "25%   -3.737279e-01 -3.345352e-01 -5.817771e-01 -6.838160e-01 -2.698527e-01   \n",
            "50%   -2.458310e-01 -2.252883e-01  2.574750e-02 -7.211134e-02 -9.217645e-02   \n",
            "75%   -6.312123e-02 -1.044538e-03  6.241364e-01  6.105156e-01  1.447252e-01   \n",
            "max    8.837892e+00  1.138364e+01  3.748548e+00  3.793153e+00  1.969108e+01   \n",
            "\n",
            "                GGT          PROT  \n",
            "count  5.890000e+02  5.890000e+02  \n",
            "mean   6.031772e-18 -1.206354e-17  \n",
            "std    1.000850e+00  1.000850e+00  \n",
            "min   -6.210980e-01 -5.068942e+00  \n",
            "25%   -4.165134e-01 -4.846534e-01  \n",
            "50%   -2.838099e-01  3.926531e-02  \n",
            "75%   -1.103046e-02  6.193182e-01  \n",
            "max    1.129273e+01  2.733704e+00  \n",
            "   Patient ID       Category  Age   Sex       ALB       ALP       ALT  \\\n",
            "0           1  0=Blood Donor   32  male -0.542701 -0.603230 -0.905494   \n",
            "1           2  0=Blood Donor   32  male -0.542701  0.084054 -0.411380   \n",
            "2           3  0=Blood Donor   32  male  0.916417  0.253944  0.461714   \n",
            "3           4  0=Blood Donor   32  male  0.273710 -0.622536  0.193070   \n",
            "4           5  0=Blood Donor   32  male -0.421108  0.230777  0.289014   \n",
            "\n",
            "        AST       BIL       CHE      CHOL      CREA       GGT      PROT  \n",
            "0 -0.355457 -0.202289 -0.581777 -1.916091  0.480336 -0.481022 -0.540788  \n",
            "1 -0.276283 -0.409283  1.354993 -0.524241 -0.151402 -0.416513  0.862566  \n",
            "2  0.573318 -0.282787  0.290683 -0.169629  0.085500 -0.092127  1.386485  \n",
            "3 -0.340231  0.453193 -0.399063 -0.577433 -0.032951 -0.081068  0.712875  \n",
            "4 -0.273238 -0.081542  0.432286 -0.949775 -0.111918 -0.152949 -0.596922  \n"
          ]
        }
      ]
    },
    {
      "cell_type": "markdown",
      "source": [
        "Below we have quiantified the amount of outliers removed:"
      ],
      "metadata": {
        "id": "5BaJAOK3GH8U"
      }
    },
    {
      "cell_type": "code",
      "source": [
        "print(f\"Original rows: {df_scaled.shape[0]}\")\n",
        "print(f\"Rows after eliminating outliers: {df_no_outliers.shape[0]}\")\n",
        "print(f\"Outliers removed: {df_scaled.shape[0] - df_no_outliers.shape[0]}\")\n"
      ],
      "metadata": {
        "colab": {
          "base_uri": "https://localhost:8080/"
        },
        "id": "O3E0UWxcEyzA",
        "outputId": "860d15b1-0e9e-4814-eb1d-56315e73957d"
      },
      "execution_count": 22,
      "outputs": [
        {
          "output_type": "stream",
          "name": "stdout",
          "text": [
            "Original rows: 589\n",
            "Rows after eliminating outliers: 532\n",
            "Outliers removed: 57\n"
          ]
        }
      ]
    },
    {
      "cell_type": "markdown",
      "source": [
        "Additionally, a boxplot has been created to visualize the different of the continuous variables with and without outliers"
      ],
      "metadata": {
        "id": "f7tPN5oZGRFb"
      }
    },
    {
      "cell_type": "code",
      "source": [
        "import matplotlib.pyplot as plt\n",
        "\n",
        "plt.figure(figsize=(12,5))\n",
        "plt.subplot(1,2,1)\n",
        "plt.boxplot(df_scaled[continuous_cols], vert=False)\n",
        "plt.title(\"Before removing outliers\")\n",
        "\n",
        "plt.subplot(1,2,2)\n",
        "plt.boxplot(df_no_outliers[continuous_cols], vert=False)\n",
        "plt.title(\"After removing outliers\")\n",
        "\n",
        "plt.show()\n"
      ],
      "metadata": {
        "colab": {
          "base_uri": "https://localhost:8080/",
          "height": 468
        },
        "id": "Ul4dyvEnE_OM",
        "outputId": "c6ee4e54-6c5e-4fe6-a1a1-7b1ac7f28d71"
      },
      "execution_count": 24,
      "outputs": [
        {
          "output_type": "display_data",
          "data": {
            "text/plain": [
              "<Figure size 1200x500 with 2 Axes>"
            ],
            "image/png": "[encoded data removed]"
          },
          "metadata": {}
        }
      ]
    },
    {
      "cell_type": "markdown",
      "source": [
        "After checking before and after removing outliers, makes more sense to continue with the dataset without outliers to not disturb the linear regression model. Also, some outliers have quite big z scores which are more likely lab errors."
      ],
      "metadata": {
        "id": "cCMoGuAZIfKz"
      }
    },
    {
      "cell_type": "markdown",
      "source": [
        "Following the pre-processing steps, the categorical variables 'Category' and 'Sex' need to be converted into a numerical format. As any of them have ordinal categories, the method chosen is One-Hot Encoding."
      ],
      "metadata": {
        "id": "usN6BuICvVhv"
      }
    },
    {
      "cell_type": "code",
      "source": [
        "df_encoded = pd.get_dummies(df_no_outliers, columns=['Category', 'Sex'], prefix=['Category', 'Sex'], dtype=int)\n",
        "#To have binary numbers intead of booleans it is important to specify dtype=int in the get_dummies function.\n",
        "print(df_encoded.head)"
      ],
      "metadata": {
        "colab": {
          "base_uri": "https://localhost:8080/"
        },
        "id": "L6huMMGcoI-L",
        "outputId": "8c311078-7402-4447-b934-53c2cb5bf632"
      },
      "execution_count": 27,
      "outputs": [
        {
          "output_type": "stream",
          "name": "stdout",
          "text": [
            "<bound method NDFrame.head of      Patient ID  Age       ALB       ALP       ALT       AST       BIL  \\\n",
            "0             1   32 -0.542701 -0.603230 -0.905494 -0.355457 -0.202289   \n",
            "1             2   32 -0.542701  0.084054 -0.411380 -0.276283 -0.409283   \n",
            "2             3   32  0.916417  0.253944  0.461714  0.573318 -0.282787   \n",
            "3             4   32  0.273710 -0.622536  0.193070 -0.340231  0.453193   \n",
            "4             5   32 -0.421108  0.230777  0.289014 -0.273238 -0.081542   \n",
            "..          ...  ...       ...       ...       ...       ...       ...   \n",
            "580         581   68  0.238969 -1.746129 -1.035019  0.253576  0.056454   \n",
            "589         590   45 -2.192895 -2.194022 -0.934277  2.074584  1.148923   \n",
            "599         600   59 -0.976963 -0.711342 -1.025424  2.324287  1.493914   \n",
            "607         608   52 -0.455849 -1.201707 -1.212516 -0.102708  0.573939   \n",
            "612         613   64 -2.192895  0.740448 -1.106977  1.986274  2.126396   \n",
            "\n",
            "          CHE      CHOL      CREA       GGT      PROT  Category_0=Blood Donor  \\\n",
            "0   -0.581777 -1.916091  0.480336 -0.481022 -0.540788                       1   \n",
            "1    1.354993 -0.524241 -0.151402 -0.416513  0.862566                       1   \n",
            "2    0.290683 -0.169629  0.085500 -0.092127  1.386485                       1   \n",
            "3   -0.399063 -0.577433 -0.032951 -0.081068  0.712875                       1   \n",
            "4    0.432286 -0.949775 -0.111918 -0.152949 -0.596922                       1   \n",
            "..        ...       ...       ...       ...       ...                     ...   \n",
            "580 -0.417334 -0.444453 -0.015183 -0.484708  0.787721                       0   \n",
            "589 -2.957061 -1.490557 -0.098099  0.505039 -0.353674                       0   \n",
            "599 -2.701261 -1.517153  0.721186  0.344689  0.544473                       0   \n",
            "607 -0.855848 -1.428500  1.510858  1.922386  2.022672                       0   \n",
            "612 -2.989036 -1.561479 -0.295517  0.479235  1.891692                       0   \n",
            "\n",
            "     Category_1=Hepatitis  Category_2=Fibrosis  Category_3=Cirrhosis  \\\n",
            "0                       0                    0                     0   \n",
            "1                       0                    0                     0   \n",
            "2                       0                    0                     0   \n",
            "3                       0                    0                     0   \n",
            "4                       0                    0                     0   \n",
            "..                    ...                  ...                   ...   \n",
            "580                     0                    1                     0   \n",
            "589                     0                    0                     1   \n",
            "599                     0                    0                     1   \n",
            "607                     0                    0                     1   \n",
            "612                     0                    0                     1   \n",
            "\n",
            "     Sex_female  Sex_male  \n",
            "0             0         1  \n",
            "1             0         1  \n",
            "2             0         1  \n",
            "3             0         1  \n",
            "4             0         1  \n",
            "..          ...       ...  \n",
            "580           1         0  \n",
            "589           0         1  \n",
            "599           0         1  \n",
            "607           1         0  \n",
            "612           1         0  \n",
            "\n",
            "[532 rows x 18 columns]>\n"
          ]
        }
      ]
    },
    {
      "cell_type": "markdown",
      "source": [
        "As we can see in the Category columns, the rows that corresponded to 'Suspect Blood Donor' have been eliminated during the outliers removal, which is positive as this category was quite uncertain.\n",
        "\n",
        "\n",
        "\n",
        "\n"
      ],
      "metadata": {
        "id": "_R5WjVzDudI6"
      }
    }
  ]
}