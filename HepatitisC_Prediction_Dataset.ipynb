{
  "nbformat": 4,
  "nbformat_minor": 0,
  "metadata": {
    "colab": {
      "provenance": [],
      "mount_file_id": "1YjY1ZlMnnJCHhysOiSBlb55L7_cBvnXb",
      "authorship_tag": "ABX9TyOUHHExfnAiNtmowyR+11jk",
      "include_colab_link": true
    },
    "kernelspec": {
      "name": "python3",
      "display_name": "Python 3"
    },
    "language_info": {
      "name": "python"
    }
  },
  "cells": [
    {
      "cell_type": "markdown",
      "metadata": {
        "id": "view-in-github",
        "colab_type": "text"
      },
      "source": [
        "<a href=\"https://colab.research.google.com/github/Biokatzen/Hepatitis-C-Prediction-Dataset/blob/main/HepatitisC_Prediction_Dataset.ipynb\" target=\"_parent\"><img src=\"https://colab.research.google.com/assets/colab-badge.svg\" alt=\"Open In Colab\"/></a>"
      ]
    },
    {
      "cell_type": "markdown",
      "source": [
        "# Hepatitis C Prediction Dataset\n",
        "\n",
        "The dataset used in this study contains data from female and male blood donors and patients suffering from hepatitis C, fibrosis and cirrhosis with ages ranged from 19 to 77. These are the categorical variables that will be used for classification and clustering later on. The numerical variables are the following: ALB, ALP, ALT, AST, BIL, CHE, CHOL, CREA, GGT, PROT, which are traditional diagnostic tests for liver diseases.\n",
        "\n",
        "The table below resumes all the attributes found in this dataset:\n"
      ],
      "metadata": {
        "id": "2Ye82LitTY4I"
      }
    },
    {
      "cell_type": "markdown",
      "source": [
        "| **Attribute** | **Value** | **Value Label** | **Type** | **Description** |\n",
        "|----------------|----------------|-----------------|-----------|-----------------|\n",
        "| **Patient ID/No.** | Numeric | – | Integer | Patient identification |\n",
        "| **Category** | 0 | Blood Donor | Categorical | Diagnosis of the patient. Blood donor vs Hepatitis C including its progress to Fibrosis and Cirrhosis |\n",
        "|  | 0s | Suspect Blood Donor |  |  |\n",
        "|  | 1 | Hepatitis |  |  |\n",
        "|  | 2 | Fibrosis |  |  |\n",
        "|  | 3 | Cirrhosis |  |  |\n",
        "| **Age** | Numeric | – | Integer |  |\n",
        "| **Sex** | f | Female | Binary |  |\n",
        "|  | m | Male |  |  |\n",
        "| **ALB** | Numeric | – | Continuous | Albumin Blood Test (g/L)|\n",
        "| **ALP** | Numeric | – | Continuous | Alkaline Phosphatase (U/L) |\n",
        "| **ALT** | Numeric | – | Continuous | Alanine Transaminase (U/L) |\n",
        "| **AST** | Numeric | – | Continuous | Aspartate Transaminase (U/L)|\n",
        "| **BIL** | Numeric | – | Continuous | Bilirubin (µmol/L) |\n",
        "| **CHE** | Numeric | – | Continuous | Acetylcholinesterase (U/mL)|\n",
        "| **CHOL** | Numeric | – | Continuous | Cholesterol (mmol/L) |\n",
        "| **CREA** | Numeric | – | Continuous | Creatinine (µmol/L) |\n",
        "| **GGT** | Numeric | – | Continuous | Gamma-Glutamyl Transferase (U/L) |\n",
        "| **PROT** | Numeric | – | Continuous | Total Protein (g/L)|\n"
      ],
      "metadata": {
        "id": "o19K9PIsWU-0"
      }
    },
    {
      "cell_type": "code",
      "source": [
        "import pandas as pd\n",
        "import os"
      ],
      "metadata": {
        "id": "aGhUHg_GiaPy"
      },
      "execution_count": 4,
      "outputs": []
    },
    {
      "cell_type": "markdown",
      "source": [
        "Firstly, the dataset is loaded into google colab  enviroment and printed to have a first look. As we can see below, the dataset has 615 rows and 14 columns"
      ],
      "metadata": {
        "id": "MHMWYLKfmwd-"
      }
    },
    {
      "cell_type": "code",
      "source": [
        "location = '/content/drive/MyDrive/Colab Notebooks'\n",
        "os.chdir(location)\n",
        "df = pd.read_csv('HepatitisCdata.csv', header=0, sep=';')\n",
        "df.shape\n",
        "print(df)"
      ],
      "metadata": {
        "colab": {
          "base_uri": "https://localhost:8080/"
        },
        "id": "GHNj4UM0joNF",
        "outputId": "974a4efe-e6cb-49a1-ba7c-d230d673f7d6"
      },
      "execution_count": 33,
      "outputs": [
        {
          "output_type": "stream",
          "name": "stdout",
          "text": [
            "     Unnamed: 0       Category  Age Sex   ALB    ALP    ALT    AST   BIL  \\\n",
            "0             1  0=Blood Donor   32   m  38.5   52.5    7.7   22.1   7.5   \n",
            "1             2  0=Blood Donor   32   m  38.5   70.3   18.0   24.7   3.9   \n",
            "2             3  0=Blood Donor   32   m  46.9   74.7   36.2   52.6   6.1   \n",
            "3             4  0=Blood Donor   32   m  43.2   52.0   30.6   22.6  18.9   \n",
            "4             5  0=Blood Donor   32   m  39.2   74.1   32.6   24.8   9.6   \n",
            "..          ...            ...  ...  ..   ...    ...    ...    ...   ...   \n",
            "610         611    3=Cirrhosis   62   f  32.0  416.6    5.9  110.3  50.0   \n",
            "611         612    3=Cirrhosis   64   f  24.0  102.8    2.9   44.4  20.0   \n",
            "612         613    3=Cirrhosis   64   f  29.0   87.3    3.5   99.0  48.0   \n",
            "613         614    3=Cirrhosis   46   f  33.0    NaN   39.0   62.0  20.0   \n",
            "614         615    3=Cirrhosis   59   f  36.0    NaN  100.0   80.0  12.0   \n",
            "\n",
            "       CHE  CHOL   CREA    GGT  PROT  \n",
            "0     6.93  3.23  106.0   12.1  69.0  \n",
            "1    11.17  4.80   74.0   15.6  76.5  \n",
            "2     8.84  5.20   86.0   33.2  79.3  \n",
            "3     7.33  4.74   80.0   33.8  75.7  \n",
            "4     9.15  4.32   76.0   29.9  68.7  \n",
            "..     ...   ...    ...    ...   ...  \n",
            "610   5.57  6.30   55.7  650.9  68.5  \n",
            "611   1.54  3.02   63.0   35.9  71.3  \n",
            "612   1.66  3.63   66.7   64.2  82.0  \n",
            "613   3.56  4.20   52.0   50.0  71.0  \n",
            "614   9.07  5.30   67.0   34.0  68.0  \n",
            "\n",
            "[615 rows x 14 columns]\n"
          ]
        }
      ]
    },
    {
      "cell_type": "markdown",
      "source": [
        "As we can see, the first column should be the Patient ID/No. but in the dataset appears as an unnamed column, so the dataset has to be modified to add this column name. Additionally, it would be better to have the values male and female in the sex column, instead of f and m, which are less informative\n"
      ],
      "metadata": {
        "id": "1lMl2-TUpkKL"
      }
    },
    {
      "cell_type": "code",
      "source": [
        "df.rename(columns={'Unnamed: 0': 'Patient ID'}, inplace=True)\n",
        "df['Sex'] = df['Sex'].replace({'m': 'male', 'f': 'female'})\n",
        "print(df)"
      ],
      "metadata": {
        "colab": {
          "base_uri": "https://localhost:8080/"
        },
        "id": "_Xi7r9A7qYCB",
        "outputId": "50f226ec-0e4f-4217-bbf5-266fc865d628"
      },
      "execution_count": 37,
      "outputs": [
        {
          "output_type": "stream",
          "name": "stdout",
          "text": [
            "     Patient ID       Category  Age     Sex   ALB    ALP    ALT    AST   BIL  \\\n",
            "0             1  0=Blood Donor   32    male  38.5   52.5    7.7   22.1   7.5   \n",
            "1             2  0=Blood Donor   32    male  38.5   70.3   18.0   24.7   3.9   \n",
            "2             3  0=Blood Donor   32    male  46.9   74.7   36.2   52.6   6.1   \n",
            "3             4  0=Blood Donor   32    male  43.2   52.0   30.6   22.6  18.9   \n",
            "4             5  0=Blood Donor   32    male  39.2   74.1   32.6   24.8   9.6   \n",
            "..          ...            ...  ...     ...   ...    ...    ...    ...   ...   \n",
            "610         611    3=Cirrhosis   62  female  32.0  416.6    5.9  110.3  50.0   \n",
            "611         612    3=Cirrhosis   64  female  24.0  102.8    2.9   44.4  20.0   \n",
            "612         613    3=Cirrhosis   64  female  29.0   87.3    3.5   99.0  48.0   \n",
            "613         614    3=Cirrhosis   46  female  33.0    NaN   39.0   62.0  20.0   \n",
            "614         615    3=Cirrhosis   59  female  36.0    NaN  100.0   80.0  12.0   \n",
            "\n",
            "       CHE  CHOL   CREA    GGT  PROT  \n",
            "0     6.93  3.23  106.0   12.1  69.0  \n",
            "1    11.17  4.80   74.0   15.6  76.5  \n",
            "2     8.84  5.20   86.0   33.2  79.3  \n",
            "3     7.33  4.74   80.0   33.8  75.7  \n",
            "4     9.15  4.32   76.0   29.9  68.7  \n",
            "..     ...   ...    ...    ...   ...  \n",
            "610   5.57  6.30   55.7  650.9  68.5  \n",
            "611   1.54  3.02   63.0   35.9  71.3  \n",
            "612   1.66  3.63   66.7   64.2  82.0  \n",
            "613   3.56  4.20   52.0   50.0  71.0  \n",
            "614   9.07  5.30   67.0   34.0  68.0  \n",
            "\n",
            "[615 rows x 14 columns]\n"
          ]
        }
      ]
    },
    {
      "cell_type": "markdown",
      "source": [
        "Following the pre-processing steps, the categorical variables 'Category' and 'Sex' need to be converted into a numerical format. As any of them have ordinal categories, the method chosen is One-Hot Encoding."
      ],
      "metadata": {
        "id": "usN6BuICvVhv"
      }
    },
    {
      "cell_type": "code",
      "source": [
        "df_encoded = pd.get_dummies(df, columns=['Category', 'Sex'], prefix=['Category', 'Sex'], dtype=int)\n",
        "print(df_encoded.head)"
      ],
      "metadata": {
        "colab": {
          "base_uri": "https://localhost:8080/"
        },
        "id": "L6huMMGcoI-L",
        "outputId": "31941cca-0afa-44ad-b09f-700c28e7c79f"
      },
      "execution_count": 38,
      "outputs": [
        {
          "output_type": "stream",
          "name": "stdout",
          "text": [
            "<bound method NDFrame.head of      Patient ID  Age   ALB    ALP    ALT    AST   BIL    CHE  CHOL   CREA  \\\n",
            "0             1   32  38.5   52.5    7.7   22.1   7.5   6.93  3.23  106.0   \n",
            "1             2   32  38.5   70.3   18.0   24.7   3.9  11.17  4.80   74.0   \n",
            "2             3   32  46.9   74.7   36.2   52.6   6.1   8.84  5.20   86.0   \n",
            "3             4   32  43.2   52.0   30.6   22.6  18.9   7.33  4.74   80.0   \n",
            "4             5   32  39.2   74.1   32.6   24.8   9.6   9.15  4.32   76.0   \n",
            "..          ...  ...   ...    ...    ...    ...   ...    ...   ...    ...   \n",
            "610         611   62  32.0  416.6    5.9  110.3  50.0   5.57  6.30   55.7   \n",
            "611         612   64  24.0  102.8    2.9   44.4  20.0   1.54  3.02   63.0   \n",
            "612         613   64  29.0   87.3    3.5   99.0  48.0   1.66  3.63   66.7   \n",
            "613         614   46  33.0    NaN   39.0   62.0  20.0   3.56  4.20   52.0   \n",
            "614         615   59  36.0    NaN  100.0   80.0  12.0   9.07  5.30   67.0   \n",
            "\n",
            "       GGT  PROT  Category_0=Blood Donor  Category_0s=suspect Blood Donor  \\\n",
            "0     12.1  69.0                       1                                0   \n",
            "1     15.6  76.5                       1                                0   \n",
            "2     33.2  79.3                       1                                0   \n",
            "3     33.8  75.7                       1                                0   \n",
            "4     29.9  68.7                       1                                0   \n",
            "..     ...   ...                     ...                              ...   \n",
            "610  650.9  68.5                       0                                0   \n",
            "611   35.9  71.3                       0                                0   \n",
            "612   64.2  82.0                       0                                0   \n",
            "613   50.0  71.0                       0                                0   \n",
            "614   34.0  68.0                       0                                0   \n",
            "\n",
            "     Category_1=Hepatitis  Category_2=Fibrosis  Category_3=Cirrhosis  \\\n",
            "0                       0                    0                     0   \n",
            "1                       0                    0                     0   \n",
            "2                       0                    0                     0   \n",
            "3                       0                    0                     0   \n",
            "4                       0                    0                     0   \n",
            "..                    ...                  ...                   ...   \n",
            "610                     0                    0                     1   \n",
            "611                     0                    0                     1   \n",
            "612                     0                    0                     1   \n",
            "613                     0                    0                     1   \n",
            "614                     0                    0                     1   \n",
            "\n",
            "     Sex_female  Sex_male  \n",
            "0             0         1  \n",
            "1             0         1  \n",
            "2             0         1  \n",
            "3             0         1  \n",
            "4             0         1  \n",
            "..          ...       ...  \n",
            "610           1         0  \n",
            "611           1         0  \n",
            "612           1         0  \n",
            "613           1         0  \n",
            "614           1         0  \n",
            "\n",
            "[615 rows x 19 columns]>\n"
          ]
        }
      ]
    },
    {
      "cell_type": "markdown",
      "source": [
        "To have binary numbers intead of booleans it is important to specify dtype=int in the get_dummies fucntion."
      ],
      "metadata": {
        "id": "_R5WjVzDudI6"
      }
    }
  ]
}